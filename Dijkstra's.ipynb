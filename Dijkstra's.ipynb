{
  "nbformat": 4,
  "nbformat_minor": 0,
  "metadata": {
    "colab": {
      "provenance": []
    },
    "kernelspec": {
      "name": "python3",
      "display_name": "Python 3"
    },
    "language_info": {
      "name": "python"
    }
  },
  "cells": [
    {
      "cell_type": "code",
      "execution_count": 2,
      "metadata": {
        "colab": {
          "base_uri": "https://localhost:8080/"
        },
        "id": "N2w3OMKzZKt6",
        "outputId": "25e915e2-c019-44fc-e531-45935aa279b1"
      },
      "outputs": [
        {
          "output_type": "stream",
          "name": "stdout",
          "text": [
            "Graph:\n",
            "S -> T : 10\n",
            "S -> Y : 5\n",
            "S -> Z : 7\n",
            "T -> X : 1\n",
            "T -> Y : 2\n",
            "X -> Z : 4\n",
            "Y -> Z : 2\n",
            "Y -> T : 3\n",
            "Y -> X : 9\n",
            "Z -> S : 7\n",
            "Z -> X : 6\n",
            "\n",
            "Shortest Paths from S:\n",
            "Shortest path from S to S: 0\n",
            "Shortest path from S to T: 8\n",
            "Shortest path from S to X: 9\n",
            "Shortest path from S to Y: 5\n",
            "Shortest path from S to Z: 7\n",
            "\n",
            "Previous nodes:\n",
            "S: None\n",
            "T: Y\n",
            "X: T\n",
            "Y: S\n",
            "Z: S\n",
            "\n",
            "Shortest Path Graph:\n",
            "Y -> T : 3\n",
            "T -> X : 1\n",
            "S -> Y : 5\n",
            "S -> Z : 7\n"
          ]
        }
      ],
      "source": [
        "class Edge:\n",
        "    def __init__(self, start, end, weight):\n",
        "        self.start = start\n",
        "        self.end = end\n",
        "        self.weight = weight\n",
        "\n",
        "def dijkstra(graph, start):\n",
        "    distances = {node: float('inf') for node in graph}\n",
        "    distances[start] = 0\n",
        "    pq = [(0, start)]\n",
        "    prev = {node: None for node in graph}\n",
        "\n",
        "    while pq:\n",
        "        cur_distance, cur_node = heapq.heappop(pq)\n",
        "        if cur_distance > distances[cur_node]:\n",
        "            continue\n",
        "        for neighbor, weight in graph[cur_node].items():\n",
        "            distance = cur_distance + weight\n",
        "            if distance < distances[neighbor]:\n",
        "                distances[neighbor] = distance\n",
        "                prev[neighbor] = cur_node\n",
        "                heapq.heappush(pq, (distance, neighbor))\n",
        "\n",
        "    return distances, prev\n",
        "\n",
        "def print_graph(graph):\n",
        "    print(\"Graph:\")\n",
        "    for u in graph:\n",
        "        for v, weight in graph[u].items():\n",
        "            print(f\"{u} -> {v} : {weight}\")\n",
        "    print()\n",
        "\n",
        "def print_shortest_path(graph, start_node, distances, previous):\n",
        "    print(\"Shortest Paths from\", start_node + \":\")\n",
        "    for node, distance in distances.items():\n",
        "        print(f\"Shortest path from {start_node} to {node}: {distance}\")\n",
        "    print(\"\\nPrevious nodes:\")\n",
        "    for node, prev_node in previous.items():\n",
        "        print(node + \":\", prev_node)\n",
        "    print()\n",
        "\n",
        "def construct_shortest_path_edges(graph, previous):\n",
        "    shortest_path_edges = []\n",
        "    for node in previous:\n",
        "        if previous[node] is not None:\n",
        "            shortest_path_edges.append(Edge(previous[node], node, graph[previous[node]][node]))\n",
        "    return shortest_path_edges\n",
        "\n",
        "# Example 24.6 from Page 659:\n",
        "graph = {\n",
        "    'S': {'T': 10, 'Y': 5, 'Z': 7},\n",
        "    'T': {'X': 1, 'Y': 2},\n",
        "    'X': {'Z': 4},\n",
        "    'Y': {'Z': 2, 'T': 3, 'X': 9},\n",
        "    'Z': {'S': 7, 'X': 6}\n",
        "}\n",
        "\n",
        "start_node = 'S'\n",
        "distances, previous = dijkstra(graph, start_node)\n",
        "\n",
        "print_graph(graph)\n",
        "print_shortest_path(graph, start_node, distances, previous)\n",
        "\n",
        "shortest_path_edges = construct_shortest_path_edges(graph, previous)\n",
        "\n",
        "print(\"Shortest Path Graph:\")\n",
        "for edge in shortest_path_edges:\n",
        "    print(f\"{edge.start} -> {edge.end} : {edge.weight}\")\n"
      ]
    }
  ]
}